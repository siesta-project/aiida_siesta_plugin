{
 "cells": [
  {
   "cell_type": "code",
   "execution_count": null,
   "metadata": {
    "slideshow": {
     "slide_type": "skip"
    }
   },
   "outputs": [],
   "source": [
    "from aiida_siesta.workflows.iterate import SiestaIterator\n",
    "from aiida_siesta.workflows.converge import SiestaConverger, SiestaSequentialConverger\n",
    "from aiida_siesta.workflows.base import SiestaBaseWorkChain\n",
    "from aiida.orm.querybuilder import QueryBuilder\n",
    "#from aiida_siesta.workflows.elastic import ElasticResponse\n",
    "from aiida.engine import submit, run, CalcJob\n",
    "from aiida.common import AttributeDict\n",
    "from aiida.orm import Str, Float, Code, StructureData, Dict, List, KpointsData, Int, Bool, ArrayData, Group, BandsData\n",
    "from aiida.orm.utils import load_node, load_group\n",
    "from aiida.manage.database.delete.nodes import delete_nodes\n",
    "from aiida_siesta.calculations.tkdict import FDFDict\n",
    "import aiida\n",
    "import numpy as np\n",
    "import pandas as pd\n",
    "pd.options.plotting.backend = \"plotly\"\n",
    "import pathlib\n",
    "import plotly.express as px\n",
    "from xarray import DataArray"
   ]
  },
  {
   "cell_type": "code",
   "execution_count": null,
   "metadata": {
    "slideshow": {
     "slide_type": "skip"
    }
   },
   "outputs": [],
   "source": [
    "def gather_outputs(node, as_df=False):\n",
    "    import itertools\n",
    "\n",
    "    if isinstance(node, (int, str)):\n",
    "        node = load_node(node)\n",
    "\n",
    "    df = pd.DataFrame([called.outputs.output_parameters.get_dict() for called in reversed(node.called)])\n",
    "    \n",
    "    inputs = {}\n",
    "    for key, values in node.inputs.iterate_over.get_dict().items():\n",
    "        values = [load_node(val) for val in values]\n",
    "        try:\n",
    "            values = [val.value for val in values]\n",
    "            try:\n",
    "                values = [float(val.split()[0]) for val in values]\n",
    "            except:\n",
    "                pass\n",
    "        except:\n",
    "            values = [str(val.pk) for val in values]\n",
    "        inputs[key] = values\n",
    "    \n",
    "    if node.inputs.iterate_mode.value == \"product\":\n",
    "        combs = list(itertools.product(*[val for val in inputs.values()]))\n",
    "        \n",
    "        indexes = pd.DataFrame(combs, columns=list(inputs.keys()))\n",
    "    else:\n",
    "        indexes = pd.DataFrame(inputs)\n",
    "    \n",
    "    df = df.set_index([indexes[col] for col in indexes])\n",
    "    if not as_df:\n",
    "        return df.to_xarray()\n",
    "    else:\n",
    "        return df.reset_index()"
   ]
  },
  {
   "cell_type": "code",
   "execution_count": null,
   "metadata": {
    "slideshow": {
     "slide_type": "skip"
    }
   },
   "outputs": [],
   "source": [
    "aiida.load_profile('pfebrer')\n",
    "siesta = Code.get_from_string('siesta@Laptop')\n",
    "\n",
    "general_siesta_inputs = {\n",
    "    \"code\": siesta, \"pseudo_family\": Str('NPG'), \"parameters\": Dict(),\n",
    "    \"options\": Dict(dict={'withmpi': False,'resources': {'num_machines': 1, \"num_mpiprocs_per_machine\": 1},\n",
    "                       'max_wallclock_seconds': 3600 * 2}),\n",
    "}"
   ]
  },
  {
   "cell_type": "markdown",
   "metadata": {
    "slideshow": {
     "slide_type": "slide"
    }
   },
   "source": [
    "The story of a convergence issue\n",
    "----"
   ]
  },
  {
   "cell_type": "markdown",
   "metadata": {
    "slideshow": {
     "slide_type": "fragment"
    }
   },
   "source": [
    "- I asked Emanuele if I could implement a `Converger` in Aiida to learn about the framework."
   ]
  },
  {
   "cell_type": "markdown",
   "metadata": {
    "slideshow": {
     "slide_type": "fragment"
    }
   },
   "source": [
    "- He said yes"
   ]
  },
  {
   "cell_type": "markdown",
   "metadata": {
    "slideshow": {
     "slide_type": "fragment"
    }
   },
   "source": [
    "- I noticed that most of the code to write was to **iterate over a given parameter**."
   ]
  },
  {
   "cell_type": "markdown",
   "metadata": {
    "slideshow": {
     "slide_type": "fragment"
    }
   },
   "source": [
    "- I was stubborn enough to make Emanuele let me develop a standalone `Iterator` workchain."
   ]
  },
  {
   "cell_type": "markdown",
   "metadata": {
    "slideshow": {
     "slide_type": "fragment"
    }
   },
   "source": [
    "- Now we have a general Iterator that can be used to **iterate over existing workchains** or **develop new workchains** that inherit from it."
   ]
  },
  {
   "cell_type": "markdown",
   "metadata": {
    "slideshow": {
     "slide_type": "slide"
    }
   },
   "source": [
    "And then we proposed it as an improvement for `aiida-core`."
   ]
  },
  {
   "cell_type": "markdown",
   "metadata": {
    "slideshow": {
     "slide_type": "fragment"
    }
   },
   "source": [
    "3 weeks ago"
   ]
  },
  {
   "cell_type": "markdown",
   "metadata": {
    "slideshow": {
     "slide_type": "fragment"
    }
   },
   "source": [
    "<div style=\"color: darkred; font-weight: bold\">No response yet... :(</div>"
   ]
  },
  {
   "cell_type": "markdown",
   "metadata": {
    "slideshow": {
     "slide_type": "fragment"
    }
   },
   "source": [
    "<center>\n",
    "    <img src=\"https://thumbs.gfycat.com/DiligentEnlightenedFinnishspitz-max-1mb.gif\">\n",
    "</center>"
   ]
  },
  {
   "cell_type": "markdown",
   "metadata": {
    "slideshow": {
     "slide_type": "slide"
    }
   },
   "source": [
    "BaseIterator\n",
    "-------"
   ]
  },
  {
   "cell_type": "code",
   "execution_count": null,
   "metadata": {},
   "outputs": [],
   "source": [
    "from aiida_siesta.workflows.iterate import BaseIterator"
   ]
  },
  {
   "cell_type": "code",
   "execution_count": null,
   "metadata": {
    "slideshow": {
     "slide_type": "-"
    }
   },
   "outputs": [],
   "source": [
    "from aiida_siesta.workflows.base import SiestaBaseWorkChain\n",
    "\n",
    "class SiestaIterator(BaseIterator):\n",
    "    _process_class = SiestaBaseWorkChain"
   ]
  },
  {
   "cell_type": "markdown",
   "metadata": {},
   "source": [
    "**Additional parameters** can be made iterable by defining `_params_lookup`. You are not **limited to the inputs**!"
   ]
  },
  {
   "cell_type": "markdown",
   "metadata": {
    "slideshow": {
     "slide_type": "slide"
    }
   },
   "source": [
    "But... you can already do"
   ]
  },
  {
   "cell_type": "code",
   "execution_count": null,
   "metadata": {},
   "outputs": [],
   "source": [
    "for cutoff in [100,200,300]:\n",
    "    submit(SiestaBaseWorkChain, **general_siesta_inputs, parameters={\"mesh_cutoff\": f\"{cutoff} Ry\"})"
   ]
  },
  {
   "cell_type": "markdown",
   "metadata": {
    "slideshow": {
     "slide_type": "fragment"
    }
   },
   "source": [
    "**... so what's the big deal?**"
   ]
  },
  {
   "cell_type": "markdown",
   "metadata": {
    "slideshow": {
     "slide_type": "slide"
    }
   },
   "source": [
    "Ok, honestly it is not that big of a deal."
   ]
  },
  {
   "cell_type": "markdown",
   "metadata": {
    "slideshow": {
     "slide_type": "fragment"
    }
   },
   "source": [
    "But it's **VERY PRACTICAL**."
   ]
  },
  {
   "cell_type": "markdown",
   "metadata": {
    "slideshow": {
     "slide_type": "slide"
    }
   },
   "source": [
    "SiestaIterator\n",
    "-------"
   ]
  },
  {
   "cell_type": "code",
   "execution_count": null,
   "metadata": {
    "slideshow": {
     "slide_type": "-"
    }
   },
   "outputs": [],
   "source": [
    "from aiida_siesta.workflows.iterate import SiestaIterator"
   ]
  },
  {
   "cell_type": "code",
   "execution_count": null,
   "metadata": {
    "scrolled": false,
    "slideshow": {
     "slide_type": "-"
    }
   },
   "outputs": [],
   "source": [
    "SiestaIterator._params_lookup"
   ]
  },
  {
   "cell_type": "markdown",
   "metadata": {
    "slideshow": {
     "slide_type": "slide"
    }
   },
   "source": [
    "Iterate over structures\n",
    "--------"
   ]
  },
  {
   "cell_type": "code",
   "execution_count": null,
   "metadata": {
    "slideshow": {
     "slide_type": "-"
    }
   },
   "outputs": [],
   "source": [
    "import sisl\n",
    "structures = [sisl.geom.graphene(bond=bond) for bond in (1.35, 1.40, 1.45, 1.50)]"
   ]
  },
  {
   "cell_type": "code",
   "execution_count": null,
   "metadata": {
    "scrolled": false,
    "slideshow": {
     "slide_type": "-"
    }
   },
   "outputs": [],
   "source": [
    "sisl.viz.SubPlots(plots=[struct.plot.bondlengthmap(axes=[0,1], sc=[2,2,1], points_per_bond=30) for struct in structures], arrange=\"square\")"
   ]
  },
  {
   "cell_type": "markdown",
   "metadata": {
    "slideshow": {
     "slide_type": "slide"
    }
   },
   "source": [
    "Convert to aiida's `StructureData`."
   ]
  },
  {
   "cell_type": "code",
   "execution_count": null,
   "metadata": {},
   "outputs": [],
   "source": [
    "structs = [StructureData(ase=struct.toASE()) for struct in structures]"
   ]
  },
  {
   "cell_type": "markdown",
   "metadata": {},
   "source": [
    "And **run**!"
   ]
  },
  {
   "cell_type": "code",
   "execution_count": null,
   "metadata": {
    "slideshow": {
     "slide_type": "-"
    }
   },
   "outputs": [],
   "source": [
    "submit(SiestaIterator,\n",
    "    # Regular SiestaBaseWorkchain inputs\n",
    "    **general_siesta_inputs,\n",
    "    # Iterator inputs\n",
    "    iterate_over={\"structure\": structs},\n",
    ")"
   ]
  },
  {
   "cell_type": "markdown",
   "metadata": {
    "slideshow": {
     "slide_type": "slide"
    }
   },
   "source": [
    "But that's not everything!"
   ]
  },
  {
   "cell_type": "markdown",
   "metadata": {
    "slideshow": {
     "slide_type": "slide"
    }
   },
   "source": [
    "The real high throughput\n",
    "----"
   ]
  },
  {
   "cell_type": "markdown",
   "metadata": {
    "cell_style": "split",
    "slideshow": {
     "slide_type": "-"
    }
   },
   "source": [
    "\n",
    "\n",
    "You have:\n",
    "- `batch_size`: how many submissions in **parallel**?\n",
    "- `iteration_mode`: how to iterate over **multiple parameters**."
   ]
  },
  {
   "cell_type": "code",
   "execution_count": null,
   "metadata": {
    "cell_style": "split",
    "slideshow": {
     "slide_type": "fragment"
    }
   },
   "outputs": [],
   "source": [
    "calc_node = submit(SiestaIterator,\n",
    "    # Regular SiestaBaseWorkchain inputs\n",
    "    **general_siesta_inputs,\n",
    "                   \n",
    "    # Iterator inputs\n",
    "    iterate_over={\n",
    "        \"structure\": structs, \n",
    "        \"mesh_cutoff\": [\"50 Ry\", \"100 Ry\"], \n",
    "        \"paobasissize\": [\"SZP\", \"DZP\"]\n",
    "    },\n",
    "    batch_size=Int(8),\n",
    "    iterate_mode=Str(\"product\")\n",
    ")"
   ]
  },
  {
   "cell_type": "code",
   "execution_count": null,
   "metadata": {
    "scrolled": false,
    "slideshow": {
     "slide_type": "slide"
    }
   },
   "outputs": [],
   "source": [
    "results = gather_outputs(calc_node, as_df=True)\n",
    "results\n",
    "px.line(results, x=\"mesh_cutoff\", y=[\"E_KS\"], color=\"paobasissize\", facet_col=\"structure\", facet_col_wrap=2)\n",
    "#px.scatter_matrix(results, dimensions=[\"global_time\", \"mesh_cutoff\", \"paobasissize\", \"structure\"], template=\"plotly\")"
   ]
  },
  {
   "cell_type": "markdown",
   "metadata": {
    "slideshow": {
     "slide_type": "slide"
    }
   },
   "source": [
    "BaseConverger\n",
    "----------------\n",
    "\n",
    "`BaseIterator` has a `_should_proceed` method that can be overwritten.\n",
    "\n",
    "One can easily use it to **implement a converger**."
   ]
  },
  {
   "cell_type": "markdown",
   "metadata": {
    "slideshow": {
     "slide_type": "fragment"
    }
   },
   "source": [
    "Then, `SiestaConverger` is nothing more than:\n",
    "\n",
    "```python\n",
    "class SiestaConverger(BasicConverger, SiestaIterator):\n",
    "    pass\n",
    "```"
   ]
  },
  {
   "cell_type": "markdown",
   "metadata": {
    "slideshow": {
     "slide_type": "slide"
    }
   },
   "source": [
    "SiestaConverger\n",
    "------"
   ]
  },
  {
   "cell_type": "code",
   "execution_count": null,
   "metadata": {
    "slideshow": {
     "slide_type": "-"
    }
   },
   "outputs": [],
   "source": [
    "from aiida_siesta.workflows.converge import SiestaConverger"
   ]
  },
  {
   "cell_type": "markdown",
   "metadata": {
    "cell_style": "split",
    "slideshow": {
     "slide_type": "-"
    }
   },
   "source": [
    "\n",
    "\n",
    "Currently, it has 2 additional inputs:\n",
    "- `target`, *the **name of the output parameter** to check for convergence*.\n",
    "- `threshold`, *the **difference between two steps** to consider the calculation converged*"
   ]
  },
  {
   "cell_type": "code",
   "execution_count": null,
   "metadata": {
    "cell_style": "split",
    "slideshow": {
     "slide_type": "-"
    }
   },
   "outputs": [],
   "source": [
    "calc_node = submit(SiestaConverger,\n",
    "    # Regular SiestaBaseWorkchain inputs\n",
    "    **general_siesta_inputs,\n",
    "    structure=structs[2],\n",
    "                   \n",
    "    # Iterator inputs\n",
    "    batch_size=Int(2),\n",
    "    iterate_over={\"kpoints_0\": [1,3,6,9,12]},\n",
    "                   \n",
    "    # Converger inputs\n",
    "    target=Str(\"E_KS\"),\n",
    "    threshold=Float(0.05)\n",
    "    \n",
    ")"
   ]
  },
  {
   "cell_type": "code",
   "execution_count": null,
   "metadata": {},
   "outputs": [],
   "source": [
    "calc_node.outputs.converged_target_value"
   ]
  },
  {
   "cell_type": "markdown",
   "metadata": {
    "slideshow": {
     "slide_type": "slide"
    }
   },
   "source": [
    "SiestaSequentialConverger \n",
    "----"
   ]
  },
  {
   "cell_type": "code",
   "execution_count": null,
   "metadata": {
    "slideshow": {
     "slide_type": "-"
    }
   },
   "outputs": [],
   "source": [
    "from aiida_siesta.workflows.converge import SiestaSequentialConverger"
   ]
  },
  {
   "cell_type": "code",
   "execution_count": null,
   "metadata": {
    "cell_style": "split",
    "slideshow": {
     "slide_type": "-"
    }
   },
   "outputs": [],
   "source": [
    "calc_node = submit(SiestaSequentialConverger,\n",
    "    \n",
    "    # Sequential converger inputs\n",
    "    iterate_over=[\n",
    "        {\"mesh_cutoff\": [\"50 Ry\", \"100 Ry\", \n",
    "                         \"150 Ry\", \"200 Ry\"]},\n",
    "        {\"kpoints_0\": [1,3,6,9,12]},\n",
    "        {\"kpoints_1\": [1,3,6,9,12]},\n",
    "    ],\n",
    "    \n",
    "    converger_inputs=dict(\n",
    "        # Regular SiestaBaseWorkchain inputs\n",
    "        **general_siesta_inputs,\n",
    "        structure=structs[2],\n",
    "        \n",
    "        # Converger inputs\n",
    "        batch_size=Int(4),\n",
    "        target=Str(\"E_KS\"),\n",
    "        threshold=Float(0.05)\n",
    "    )  \n",
    ")"
   ]
  },
  {
   "cell_type": "markdown",
   "metadata": {
    "cell_style": "split",
    "slideshow": {
     "slide_type": "-"
    }
   },
   "source": [
    "<center>\n",
    "<img src=\"./diagram.svg\"/>\n",
    "</center>"
   ]
  },
  {
   "cell_type": "code",
   "execution_count": null,
   "metadata": {},
   "outputs": [],
   "source": [
    "calc_node.called[0].inputs.kpoints.get_kpoints_mesh()"
   ]
  },
  {
   "cell_type": "markdown",
   "metadata": {
    "slideshow": {
     "slide_type": "slide"
    }
   },
   "source": [
    "*Thank you*."
   ]
  }
 ],
 "metadata": {
  "kernelspec": {
   "display_name": "Python 3",
   "language": "python",
   "name": "python3"
  },
  "language_info": {
   "codemirror_mode": {
    "name": "ipython",
    "version": 3
   },
   "file_extension": ".py",
   "mimetype": "text/x-python",
   "name": "python",
   "nbconvert_exporter": "python",
   "pygments_lexer": "ipython3",
   "version": "3.6.9"
  },
  "rise": {
   "progress": true,
   "scroll": true
  }
 },
 "nbformat": 4,
 "nbformat_minor": 2
}
